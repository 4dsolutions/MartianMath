{
 "cells": [
  {
   "cell_type": "markdown",
   "metadata": {},
   "source": [
    "![satacad](./images/satacadlogo.gif)\n",
    "TOC: [2](./mm2.ipynb)  [3](./mm3.ipynb)  [4](./mm4.ipynb)  [5](./mm5.ipynb)  [6](./mm6.ipynb)\n",
    "\n",
    "# MARTIAN MATH IS SCIENCE FICTION\n",
    "\n",
    "[MM @ Reed](http://www.4dsolutions.net/satacad/martianmath/toc.html) (Earlier Edition)\n",
    "\n",
    "Martian Math is an introduction to some mathematics against the backdrop of science fiction stories.\n",
    "\n",
    "Lets think about what might happen if:\n",
    "\n",
    "*  Humans go to Mars\n",
    "*  Humans detect intelligent ETs (anywhere)\n",
    "*  Humans discover life on Mars\n",
    "*  Remember Orson Wells and the Panic Radio Show\n",
    "\n",
    "\n",
    "### SYMBOLS\n",
    "\n",
    "Astronomers inherit symbols for the planets from Astrologers.\n",
    "\n",
    "![symbols](https://upload.wikimedia.org/wikipedia/en/4/49/Planets_in_astrology_glyphs.jpg)\n",
    "\n",
    "![symbol](./images/mars_symbol.jpg)\n",
    "\n",
    "### PLANET\n",
    "\n",
    "![mars](./images/mars.jpg)\n",
    "\n",
    "### MARS IS SMALLER THAN EARTH\n",
    "\n",
    "![Comparison](./images/Earth_Mars_Comparison.jpg)"
   ]
  },
  {
   "cell_type": "code",
   "execution_count": 1,
   "metadata": {},
   "outputs": [
    {
     "name": "stdout",
     "output_type": "stream",
     "text": [
      "Mercury\n",
      "Moon\n",
      "Venus\n",
      "Earth\n",
      "Mars\n",
      "Jupiter\n",
      "Saturn\n",
      "Uranus\n",
      "Neptune\n",
      "Pluto\n"
     ]
    }
   ],
   "source": [
    "planets = (\"Mercury\", \"Moon\", \"Venus\", \"Earth\", \"Mars\", \"Jupiter\", \"Saturn\", \"Uranus\", \"Neptune\", \"Pluto\")\n",
    "for planet in planets:\n",
    "    print(planet)"
   ]
  },
  {
   "cell_type": "markdown",
   "metadata": {},
   "source": [
    "### SPEAKING OF PLANETS...\n",
    "\n",
    "This is a Jupyter Notebook (note spelling).  In Martian Math, we'll be learning how to create them and change them.\n",
    "\n",
    "Here's a link to [a Markdown Cheatsheet](https://github.com/adam-p/markdown-here/wiki/Markdown-Cheatsheet)."
   ]
  }
 ],
 "metadata": {
  "kernelspec": {
   "display_name": "Python 3",
   "language": "python",
   "name": "python3"
  },
  "language_info": {
   "codemirror_mode": {
    "name": "ipython",
    "version": 3
   },
   "file_extension": ".py",
   "mimetype": "text/x-python",
   "name": "python",
   "nbconvert_exporter": "python",
   "pygments_lexer": "ipython3",
   "version": "3.6.7"
  }
 },
 "nbformat": 4,
 "nbformat_minor": 2
}
