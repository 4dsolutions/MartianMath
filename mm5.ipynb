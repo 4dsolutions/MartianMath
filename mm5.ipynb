{
 "cells": [
  {
   "cell_type": "markdown",
   "metadata": {},
   "source": [
    "![satacad](./images/satacadlogo.gif)\n",
    "TOC: [1](./mm1.ipynb)  [2](./mm2.ipynb)  [3](./mm3.ipynb)  [4](./mm4.ipynb)\n",
    "\n",
    "# MARTIAN MATH IS FOR VISUALIZING WHOLE PLANETS\n",
    "\n",
    "<a data-flickr-embed=\"true\"  href=\"https://www.flickr.com/photos/kirbyurner/28494828118/in/photolist-KpZrDY-S6wx6t-S6wwyM-JU5VsA-g8qgx7-au4y8r-9nuDBg-8BTxEh-7YSaxm-7TYgVa-6kaYa3-6kb1tS-5WLds4-5B9hk5-5xioRy-5w7Poh-5uAR5t-5t2c3Q-3e3yf5\" title=\"DGGS / Global Matrix\"><img src=\"https://farm2.staticflickr.com/1741/28494828118_573fc6c57b.jpg\" width=\"500\" height=\"281\" alt=\"DGGS / Global Matrix\"></a><script async src=\"//embedr.flickr.com/assets/client-code.js\" charset=\"utf-8\"></script>"
   ]
  },
  {
   "cell_type": "code",
   "execution_count": null,
   "metadata": {
    "collapsed": true
   },
   "outputs": [],
   "source": []
  }
 ],
 "metadata": {
  "kernelspec": {
   "display_name": "Python 3",
   "language": "python",
   "name": "python3"
  },
  "language_info": {
   "codemirror_mode": {
    "name": "ipython",
    "version": 3
   },
   "file_extension": ".py",
   "mimetype": "text/x-python",
   "name": "python",
   "nbconvert_exporter": "python",
   "pygments_lexer": "ipython3",
   "version": "3.6.4"
  }
 },
 "nbformat": 4,
 "nbformat_minor": 2
}
