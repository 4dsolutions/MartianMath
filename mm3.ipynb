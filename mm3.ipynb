{
 "cells": [
  {
   "cell_type": "markdown",
   "metadata": {},
   "source": [
    "![satacad](./images/satacadlogo.gif)\n",
    "TOC: [1](./mm1.ipynb)  [2](./mm2.ipynb)  [4](./mm4.ipynb)  [5](./mm5.ipynb)\n",
    "\n",
    "# MARTIAN MATH INHERITS FROM *SYNERGETICS*\n",
    "\n",
    "Richard Buckminster Fuller was a big name futurist and architect throughout the 1900s.  The \"alien mathematics\" or \"unfamiliar mathematics\" used in our storyboard draws from his research.  The big idea here is making the tetrahedron a centerpiece of the geometry.\n",
    "\n",
    "### GEODESIC DOME\n",
    "\n",
    "Fuller is associated with the Geodesic Dome as a basis for many sheltering solutions, including for use off Earth, such as on the Moon or on Mars.\n",
    "\n",
    "The Tacoma Dome is a good example of a Geodesic Dome.  Many domes were built in Canada to protect radar.  These are called radomes.  Sometimes the skeletal triangles are randomized so they don't show up as patterns on radar.\n",
    "\n",
    "![dome home](./images/dome_home.jpg)\n",
    "<div style=\"text-align:center\">\n",
    "Dome covers Home &amp; Garden\n",
    "</div>\n",
    "\n",
    "![autonomous](./images/autonomous.jpg)\n",
    "<div style=\"text-align:center\">\n",
    "For Use on Earth (not only Mars)\n",
    "</div>\n",
    "\n",
    "![mars home](./images/mars_home.jpg)\n",
    "<div style=\"text-align:center\">\n",
    "Issue 18 of Cosmos, December 2007\n",
    "</div>\n",
    "\n",
    "\n",
    "\n",
    "### OCTET TRUSS\n",
    "\n",
    "Fuller also had a patent on the Octet Truss, which we see in the Portland World Trade Center buildings.  Alexander Graham Bell also studied the octet truss in the early 1900s, although he didn't use that terminology.\n",
    "\n",
    "\n",
    "You don't have to already know Python to learn some Martian Math.  Python is a computer language, and Jupyter Notebook technology was originally inspired by something called I-Python Notebook.\n",
    "\n",
    "![Bell's Kite](./images/bellivm.jpg)\n",
    "<div style=\"text-align:center\">\n",
    "A.G. Bell with space frame connector assembly\n",
    "</div>\n",
    "\n",
    "\n",
    "\n",
    "![WTC](./images/portland_wtc.jpg)\n",
    "<div style=\"text-align:center\">\n",
    "Portland WTC\n",
    "</div>\n",
    "\n",
    "#### RESOURCE\n",
    "\n",
    "[Bell Gallery at Grunch.net](http://www.grunch.net/synergetics/bell.html)"
   ]
  },
  {
   "cell_type": "code",
   "execution_count": 1,
   "metadata": {},
   "outputs": [
    {
     "name": "stdout",
     "output_type": "stream",
     "text": [
      "[1, 12, 42, 92, 162, 252, 362, 492, 642, 812]\n"
     ]
    }
   ],
   "source": [
    "def icosa_series(freq):\n",
    "    if freq == 0:\n",
    "        return 1\n",
    "    return 10 * freq ** 2 + 2\n",
    "\n",
    "print([icosa_series(n) for n in range(10)])"
   ]
  },
  {
   "cell_type": "markdown",
   "metadata": {},
   "source": [
    "![volumes table](./images/volumes_table2.png)"
   ]
  }
 ],
 "metadata": {
  "kernelspec": {
   "display_name": "Python 3",
   "language": "python",
   "name": "python3"
  },
  "language_info": {
   "codemirror_mode": {
    "name": "ipython",
    "version": 3
   },
   "file_extension": ".py",
   "mimetype": "text/x-python",
   "name": "python",
   "nbconvert_exporter": "python",
   "pygments_lexer": "ipython3",
   "version": "3.6.4"
  }
 },
 "nbformat": 4,
 "nbformat_minor": 2
}
