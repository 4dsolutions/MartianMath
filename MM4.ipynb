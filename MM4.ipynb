{
 "cells": [
  {
   "cell_type": "markdown",
   "metadata": {},
   "source": [
    "![satacad](./images/satacadlogo.gif)\n",
    "TOC: [1](./mm1.ipynb)  [2](./mm2.ipynb)  [4](./mm4.ipynb)  [5](./mm5.ipynb)\n",
    "\n",
    "# A &amp; B MODULES\n",
    "\n",
    "![A &amp; B modules](./images/abmod.gif )\n",
    "\n",
    "![A &amp; B modules](./images/a_b_modules.gif )\n",
    "\n",
    "# T &amp; E MODULES\n",
    "\n",
    "![T &amp; E modules](./images/t-mod-from-rhombic-triac.gif)\n",
    "\n",
    "# S MODULE\n",
    "\n",
    "<a data-flickr-embed=\"true\"  href=\"https://www.flickr.com/photos/kirbyurner/6335726352/in/photolist-vLby2U-ujipN3-f75zUP-aDSfHf-8ryEix-8ryECF-7mcmne-5zTRjp-5zY9gA-7k4Eid-7k4Em5-7jZLe2-7jZLhp-7k4Ejf\" title=\"S Module\"><img src=\"https://farm7.staticflickr.com/6114/6335726352_902009df40.jpg\" width=\"500\" height=\"441\" alt=\"S Module\"></a><script async src=\"//embedr.flickr.com/assets/client-code.js\" charset=\"utf-8\"></script>"
   ]
  },
  {
   "cell_type": "code",
   "execution_count": null,
   "metadata": {
    "collapsed": true
   },
   "outputs": [],
   "source": []
  }
 ],
 "metadata": {
  "kernelspec": {
   "display_name": "Python 3",
   "language": "python",
   "name": "python3"
  },
  "language_info": {
   "codemirror_mode": {
    "name": "ipython",
    "version": 3
   },
   "file_extension": ".py",
   "mimetype": "text/x-python",
   "name": "python",
   "nbconvert_exporter": "python",
   "pygments_lexer": "ipython3",
   "version": "3.6.4"
  }
 },
 "nbformat": 4,
 "nbformat_minor": 2
}
