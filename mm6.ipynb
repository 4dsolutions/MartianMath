{
 "cells": [
  {
   "cell_type": "markdown",
   "metadata": {},
   "source": [
    "![satacad](./images/satacadlogo.gif)\n",
    "TOC: [1](./mm1.ipynb)  [2](./mm2.ipynb)  [3](./mm3.ipynb)  [4](./mm4.ipynb) [5](./mm5.ipynb)\n",
    "\n",
    "\n",
    "## TETRAVOLUME REFRESHER\n",
    "\n",
    "Understanding Martian Math may require a refresher in some of the ideas popularized by R. Buckminster Fuller in his *Synergetics* volumes.\n",
    "\n",
    "This page is a \"scratch pad\" where you might want to test new ideas.  That's what I do.  Once you branch off, you may do as you wish, pushing to a Github site of your own in some cases.\n",
    "\n",
    "As I mention in the video below, I was tracking the project by Koski & Co. to work with the synergetics modules to build two kinds of identity:  \n",
    "\n",
    "* those that express mathematical equivalence and \n",
    "* those with the additional feature of assembling geometricaly (physically, sculpturally) from the given components."
   ]
  },
  {
   "cell_type": "code",
   "execution_count": 1,
   "metadata": {},
   "outputs": [
    {
     "data": {
      "image/jpeg": "[encoded data removed]",
      "text/html": [
       "\n",
       "        <iframe\n",
       "            width=\"400\"\n",
       "            height=\"300\"\n",
       "            src=\"https://www.youtube.com/embed/tTgO-_PiUCQ\"\n",
       "            frameborder=\"0\"\n",
       "            allowfullscreen\n",
       "        ></iframe>\n",
       "        "
      ],
      "text/plain": [
       "<IPython.lib.display.YouTubeVideo at 0x10dff4860>"
      ]
     },
     "execution_count": 1,
     "metadata": {},
     "output_type": "execute_result"
    }
   ],
   "source": [
    "from IPython.display import YouTubeVideo\n",
    "YouTubeVideo(\"tTgO-_PiUCQ\")"
   ]
  },
  {
   "cell_type": "markdown",
   "metadata": {},
   "source": [
    "![A &amp; B modules](./images/abmod.gif )"
   ]
  },
  {
   "cell_type": "markdown",
   "metadata": {},
   "source": [
    "The above graphic by Richard Hawkins has appeared since the 1990s at my Synergetics on the Web.  That's a regular tetrahedron on the left, taken to be unit volume, and an octahedron of volume 4 with same edge lengths (silver).  In both cases, we establish the center point and radii to the vertexes.  \n",
    "\n",
    "Subdivide the subvolumes so formed using edge midpoints and base center altitutes to these respective centers of volume.  \n",
    "\n",
    "The regions so formed on the octahedron already contain room for the A modules we get from the tetrahedron, with the difference remaining defining the B modules.  \n",
    "\n",
    "Both A and B have the same volume relative to the UVT (unit volume tetrahedron): 1/24.\n",
    "\n",
    "When we dissect the volume 3 cube according to a similar algorithm, we get half-MITE orthoschemes of volume 1/16.  24 MITEs make the unit volume cube.  See page one for a magnetic MITE toy available for purchase.\n",
    "\n",
    "We now turn to gmpy2 for some high precision computations..."
   ]
  },
  {
   "cell_type": "code",
   "execution_count": 2,
   "metadata": {},
   "outputs": [],
   "source": [
    "import tetvols\n",
    "import gmpy2\n",
    "gmpy2.get_context().precision=200\n",
    "root2 = gmpy2.sqrt(2)\n",
    "root7 = gmpy2.sqrt(7)\n",
    "root6 = gmpy2.sqrt(6)\n",
    "root5 = gmpy2.sqrt(5)\n",
    "root3 = gmpy2.sqrt(3)\n",
    "Ø = (1 + root5)/2"
   ]
  },
  {
   "cell_type": "markdown",
   "metadata": {},
   "source": [
    "![A &amp; B modules](./images/a_b_modules.gif )"
   ]
  },
  {
   "cell_type": "code",
   "execution_count": 3,
   "metadata": {},
   "outputs": [
    {
     "name": "stdout",
     "output_type": "stream",
     "text": [
      "Amod:  0.041666666666666666666666666666666666666666666666666666667\n"
     ]
    }
   ],
   "source": [
    "# A Module\n",
    "a = 1\n",
    "BE = a * root6/4\n",
    "BF = a * root3/3\n",
    "BG = a / 2\n",
    "EF = a * root6/12\n",
    "FG = a * root3/6\n",
    "GE = a * root2/4\n",
    "\n",
    "Amod = tetvols.ivm_volume((BE, BF, BG, EF, FG, GE))\n",
    "print(\"Amod: {:60.57}\".format(Amod))"
   ]
  },
  {
   "cell_type": "code",
   "execution_count": 4,
   "metadata": {},
   "outputs": [
    {
     "name": "stdout",
     "output_type": "stream",
     "text": [
      "Amod:  0.041666666666666666666666666666666666666666666666666666667\n"
     ]
    }
   ],
   "source": [
    "# B Module\n",
    "a = 1\n",
    "BE = a * root6/4\n",
    "BA = a * root2/2\n",
    "BG = a / 2\n",
    "EA = a * root6/12\n",
    "AG = a / 2\n",
    "GE = a * root2/4\n",
    "\n",
    "Amod = tetvols.ivm_volume((BE, BF, BG, EF, FG, GE))\n",
    "print(\"Amod: {:60.57}\".format(Amod))"
   ]
  },
  {
   "cell_type": "code",
   "execution_count": 5,
   "metadata": {},
   "outputs": [
    {
     "name": "stdout",
     "output_type": "stream",
     "text": [
      "sfactor:  1.080363026950905814406172628196375701989460486805627392673\n",
      "efactor:  1.001551606266567703186548288039967129740634165713962041512\n"
     ]
    }
   ],
   "source": [
    "# Synergetics modules\n",
    "S  = Smod = (Ø **-5)/2\n",
    "s3 = Smod * (Ø **-3)\n",
    "s6 = s3 * (Ø **-3)\n",
    "S3 = Smod * (Ø ** 3)\n",
    "S6 = S3 * (Ø ** 3)\n",
    "Emod = (root2/8) * (Ø ** -3)\n",
    "Tmod = gmpy2.mpq(1,24)\n",
    "Syn3 = gmpy2.sqrt(gmpy2.mpq(9, 8))\n",
    "sfactor = Smod/Emod\n",
    "efactor = Emod/Tmod\n",
    "print(\"sfactor: {:60.57}\".format(sfactor))\n",
    "print(\"efactor: {:60.57}\".format(efactor))"
   ]
  },
  {
   "cell_type": "code",
   "execution_count": 6,
   "metadata": {},
   "outputs": [
    {
     "name": "stdout",
     "output_type": "stream",
     "text": [
      "0.041731316927773654299439512001665297072526423571415085063018204\n",
      "0.041731316927773654299439512001665297072526423571415085063018204\n"
     ]
    }
   ],
   "source": [
    "print(efactor * Tmod)\n",
    "print(Emod)"
   ]
  },
  {
   "cell_type": "code",
   "execution_count": 7,
   "metadata": {},
   "outputs": [
    {
     "name": "stdout",
     "output_type": "stream",
     "text": [
      "Tradius:  0.999483332262343440046426027681421595381801474075353341769\n",
      "efactor:  1.001551606266567703186548288039967129740634165713962041512\n",
      "efactor:  1.001551606266567703186548288039967129740634165713962041512\n"
     ]
    }
   ],
   "source": [
    "gap_factor = gmpy2.root(gmpy2.mpq(2,3), 3) * Ø/root2\n",
    "print(\"Tradius: {:60.57}\".format(gap_factor)) # published in vol 2\n",
    "print(\"efactor: {:60.57}\".format(1/gap_factor ** 3))\n",
    "print(\"efactor: {:60.57}\".format(gmpy2.mpq(3,2) * (root2/Ø)**3))"
   ]
  },
  {
   "cell_type": "markdown",
   "metadata": {},
   "source": [
    "![S module a](./images/f8813a.gif)\n",
    "\n",
    "![S module c](./images/f8813c.gif)\n",
    "\n",
    "These graphics are directly from the original two volumes by way of the web copy.  The A, B, S, T & E modules are all fully defined by Volume 2.  The use of phi (Ø) as a labeled number is absent from Fuller's writing as he disciplined himself to start over in some ways and not use ancient Greek letters, partly in an effort to not alienate humanities readers."
   ]
  },
  {
   "cell_type": "code",
   "execution_count": 8,
   "metadata": {},
   "outputs": [
    {
     "name": "stdout",
     "output_type": "stream",
     "text": [
      "smod:  0.045084971874737120511467085914095294300772949514407155339\n"
     ]
    }
   ],
   "source": [
    "# S module\n",
    "FH = 1/Ø\n",
    "FE = sfactor/2\n",
    "FG = root3 * FE/2\n",
    "# connecting the base (same order, i.e. H, E, G)\n",
    "HE = (3 - root5)/2\n",
    "EG = FE/2\n",
    "GH = EG\n",
    "\n",
    "Smod = tetvols.ivm_volume((FH, FE, FG, HE, EG, GH))\n",
    "print(\"smod: {:60.57}\".format(Smod))"
   ]
  },
  {
   "cell_type": "code",
   "execution_count": 9,
   "metadata": {},
   "outputs": [
    {
     "name": "stdout",
     "output_type": "stream",
     "text": [
      "Tetrahedron (XYZ):  0.942809041582063365867792482806465385713114583584632048784\n"
     ]
    }
   ],
   "source": [
    "t = tetvols.xyz_volume((1, 1, 1, 1, 1, 1), Syn3 = Syn3)\n",
    "print(\"Tetrahedron (XYZ): {:60.57}\".format(t))"
   ]
  },
  {
   "cell_type": "code",
   "execution_count": 10,
   "metadata": {},
   "outputs": [
    {
     "name": "stdout",
     "output_type": "stream",
     "text": [
      "r1:  0.082039324993690892275210061938287063218550788345771728127\n",
      "r2:  0.082039324993690892275210061938287063218550788345771728127\n"
     ]
    }
   ],
   "source": [
    "r1 = 24*Smod - 1 # 24 Amod\n",
    "r2 = 7*s3 + 3*s6\n",
    "print(\"r1: {:60.57}\".format(r1))\n",
    "print(\"r2: {:60.57}\".format(r2))"
   ]
  },
  {
   "cell_type": "code",
   "execution_count": 11,
   "metadata": {},
   "outputs": [
    {
     "name": "stdout",
     "output_type": "stream",
     "text": [
      "r1:  0.410196624968454461376050309691435316092753941728858640635\n",
      "r2:  0.410196624968454461376050309691435316092753941728858640635\n"
     ]
    }
   ],
   "source": [
    "r1 = 120*Smod - 5 # 120 * Tmod\n",
    "r2 = 35*s3 + 15*s6\n",
    "print(\"r1: {:60.57}\".format(r1))\n",
    "print(\"r2: {:60.57}\".format(r2))"
   ]
  },
  {
   "cell_type": "code",
   "execution_count": 12,
   "metadata": {},
   "outputs": [
    {
     "name": "stdout",
     "output_type": "stream",
     "text": [
      "Octa          :  4.000000000000000000000000000000000000000000000000000000000\n",
      "Cube          :  3.000000000000000000000000000000000000000000000000000000000\n"
     ]
    }
   ],
   "source": [
    "print(\"Octa          : {:60.57}\".format(4*S6 + 4*S3))    # JB octahedron\n",
    "print(\"Cube          : {:60.57}\".format(3*S6 + 3*S3)) "
   ]
  },
  {
   "cell_type": "markdown",
   "metadata": {},
   "source": [
    "\"The cube of volume 3 can have its volume expressed as 63S+15s3.\n",
    "The Icosahedron within the volume 4 Octahedron is 60S+20s3.\n",
    "The difference is 7s3+3s6\". -- DK"
   ]
  },
  {
   "cell_type": "code",
   "execution_count": 13,
   "metadata": {},
   "outputs": [
    {
     "name": "stdout",
     "output_type": "stream",
     "text": [
      "Cube          :  3.000000000000000000000000000000000000000000000000000000000\n"
     ]
    }
   ],
   "source": [
    "print(\"Cube          : {:60.57}\".format(63*S+15*s3)) "
   ]
  },
  {
   "cell_type": "code",
   "execution_count": 14,
   "metadata": {},
   "outputs": [
    {
     "name": "stdout",
     "output_type": "stream",
     "text": [
      "IcosaWithin   :  2.917960675006309107724789938061712936781449211654228271873\n"
     ]
    }
   ],
   "source": [
    "cubocta = gmpy2.mpq(5, 2)                  # 2.5 as a fraction  \n",
    "Icosa_within = cubocta * sfactor ** 2      # inscribed in Octa 4\n",
    "print(\"IcosaWithin   : {:60.57}\".format(Icosa_within))"
   ]
  },
  {
   "cell_type": "code",
   "execution_count": 15,
   "metadata": {},
   "outputs": [
    {
     "name": "stdout",
     "output_type": "stream",
     "text": [
      "Icosa in Octa4:  2.917960675006309107724789938061712936781449211654228271873\n"
     ]
    }
   ],
   "source": [
    "Icosa_within = 60*S + 20*s3      \n",
    "print(\"Icosa in Octa4: {:60.57}\".format(Icosa_within))     # inscribed in Octa 4"
   ]
  },
  {
   "cell_type": "markdown",
   "metadata": {},
   "source": [
    "If you're looking for a more complete volumes table and/or additional material on S module identities, I recommend this additional Jupyter Notebook, which in turn links to another at the bottom:\n",
    "\n",
    "[Compound Five Octahedra](https://nbviewer.jupyter.org/github/4dsolutions/Python5/blob/master/CompoundFiveOctahedra.ipynb)"
   ]
  }
 ],
 "metadata": {
  "kernelspec": {
   "display_name": "Python 3",
   "language": "python",
   "name": "python3"
  },
  "language_info": {
   "codemirror_mode": {
    "name": "ipython",
    "version": 3
   },
   "file_extension": ".py",
   "mimetype": "text/x-python",
   "name": "python",
   "nbconvert_exporter": "python",
   "pygments_lexer": "ipython3",
   "version": "3.6.7"
  }
 },
 "nbformat": 4,
 "nbformat_minor": 2
}
