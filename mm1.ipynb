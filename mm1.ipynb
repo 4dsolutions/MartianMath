{
 "cells": [
  {
   "cell_type": "markdown",
   "metadata": {},
   "source": [
    "![satacad](./images/satacadlogo.gif)\n",
    "TOC: [2](./mm2.ipynb)  [3](./mm3.ipynb)  [4](./mm4.ipynb)  [5](./mm5.ipynb)\n",
    "\n",
    "# MARTIAN MATH IS SCIENCE FICTION\n",
    "\n",
    "[MM @ Reed](http://www.4dsolutions.net/satacad/martianmath/toc.html) (Earlier Edition)\n",
    "\n",
    "This was a class held at Reed College in 2018.  I, Kirby Urner, was the instructor.  I had an assistant, Jude, starting on the 2nd day.  We did a combination of computer-based and hands on activities.  I created a relaxed atmosphere.  Some students booted games or explored related topics.  The main activities were:\n",
    "\n",
    "* enhancing Juptyer Notebooks or starting new ones from scratch\n",
    "* cutting out A-modules from templates and folding them up\n",
    "* assembling C6XTY \"soccer balls\" (this turned into a time test contest)\n",
    "\n",
    "Martian Math is an introduction to some mathematics against the backdrop of science fiction stories.  I go over some of the history of science fiction involving Mars, including by visiting a website associated with a previous version of this class.  We also talk about current research and explorations involving Mars.\n",
    "\n",
    "Is there life on Mars?\n",
    "\n",
    "Lets think about what might happen if:\n",
    "\n",
    "*  Humans go to Mars\n",
    "*  Humans detect intelligent ETs (anywhere)\n",
    "*  Humans discover life on Mars (might be microbial)\n",
    "*  Martians come here (cite: [Orson Wells and the Panic Radio Show](http://www.scpr.org/programs/offramp/2013/10/09/33880/waroftheworlds/))\n",
    "\n",
    "<a data-flickr-embed=\"true\"  href=\"https://www.flickr.com/photos/kirbyurner/43008419181/in/album-72157695209731812/\" title=\"ET 208 @ Reed College\"><img src=\"https://farm2.staticflickr.com/1810/43008419181_f3dd1a4c1f.jpg\" width=\"500\" height=\"333\" alt=\"ET 208 @ Reed College\"></a><script async src=\"//embedr.flickr.com/assets/client-code.js\" charset=\"utf-8\"></script>"
   ]
  },
  {
   "cell_type": "code",
   "execution_count": 1,
   "metadata": {},
   "outputs": [
    {
     "data": {
      "image/jpeg": "[encoded data removed]",
      "text/html": [
       "\n",
       "        <iframe\n",
       "            width=\"400\"\n",
       "            height=\"300\"\n",
       "            src=\"https://www.youtube.com/embed/nPEn5k55g-o\"\n",
       "            frameborder=\"0\"\n",
       "            allowfullscreen\n",
       "        ></iframe>\n",
       "        "
      ],
      "text/plain": [
       "<IPython.lib.display.YouTubeVideo at 0x1112dd908>"
      ]
     },
     "execution_count": 1,
     "metadata": {},
     "output_type": "execute_result"
    }
   ],
   "source": [
    "from IPython.display import YouTubeVideo\n",
    "YouTubeVideo(\"nPEn5k55g-o\")"
   ]
  },
  {
   "cell_type": "markdown",
   "metadata": {},
   "source": [
    "### SYMBOLS\n",
    "\n",
    "Astronomers inherit symbols for the planets from Astrologers.\n",
    "\n",
    "By 2018, Pluto had been demoted from planethood, mainly because the solar system consists of myriad \"celestial\" bodies bigger than Pluto.\n",
    "\n",
    "![symbols](https://upload.wikimedia.org/wikipedia/en/4/49/Planets_in_astrology_glyphs.jpg)\n",
    "\n",
    "![symbol](./images/mars_symbol.jpg)\n",
    "\n",
    "### PLANET\n",
    "\n",
    "![mars](./images/mars.jpg)\n",
    "\n",
    "### MARS IS SMALLER THAN EARTH\n",
    "\n",
    "![Comparison](./images/Earth_Mars_Comparison.jpg)"
   ]
  },
  {
   "cell_type": "code",
   "execution_count": 2,
   "metadata": {},
   "outputs": [
    {
     "name": "stdout",
     "output_type": "stream",
     "text": [
      "Mercury\n",
      "Moon\n",
      "Venus\n",
      "Earth\n",
      "Mars\n",
      "Jupiter\n",
      "Saturn\n",
      "Uranus\n",
      "Neptune\n",
      "Pluto\n"
     ]
    }
   ],
   "source": [
    "planets = (\"Mercury\", \"Moon\", \"Venus\", \"Earth\", \"Mars\", \"Jupiter\", \"Saturn\", \"Uranus\", \"Neptune\", \"Pluto\")\n",
    "for planet in planets:\n",
    "    print(planet)"
   ]
  },
  {
   "cell_type": "markdown",
   "metadata": {},
   "source": [
    "### SPEAKING OF PLANETS...\n",
    "\n",
    "This is a Jupyter Notebook (note spelling).  In Martian Math, we'll be learning how to create them and change them.\n",
    "\n",
    "Here's a link to [a Markdown Cheatsheet](https://github.com/adam-p/markdown-here/wiki/Markdown-Cheatsheet).\n",
    "\n",
    "### More Resources\n",
    "\n",
    "Where can I find some pictures?\n",
    "\n",
    "* [Class Flickr Album](https://flic.kr/s/aHsmi8go79)\n",
    "* [Martian Math Storyboard](https://flic.kr/s/aHsjrM3Fho)\n",
    "\n",
    "Where can I learn more Python?\n",
    "\n",
    "* [Python5 Github site](http://github.com/4dsolutions/Python5)\n",
    "\n",
    "Where can I learn more about Martian Math?\n",
    "\n",
    "* [Digital Math Curriculum][1]\n",
    "* [The Concept of Dimension in Synergetics][2]\n",
    "* [K. Urner Youtube playlist][3]\n",
    "* [Synergetics on Wikipedia][4]\n",
    "* [Quadray Coordinates on Wikipedia][5]\n",
    "\n",
    "[1]: http://wikieducator.org/Martian_Math\n",
    "[2]: https://goo.gl/zoVYF1\n",
    "[3]: https://www.youtube.com/watch?v=vk-cpknOz9E&list=PLeBIlkJm4xglicSifacG4eewD9CQaWvU0\n",
    "[4]: https://en.wikipedia.org/wiki/Synergetics_(Fuller)\n",
    "[5]: https://en.wikipedia.org/wiki/Quadray_coordinates \"Quadrays on Wikipedia\""
   ]
  }
 ],
 "metadata": {
  "kernelspec": {
   "display_name": "Python 3",
   "language": "python",
   "name": "python3"
  },
  "language_info": {
   "codemirror_mode": {
    "name": "ipython",
    "version": 3
   },
   "file_extension": ".py",
   "mimetype": "text/x-python",
   "name": "python",
   "nbconvert_exporter": "python",
   "pygments_lexer": "ipython3",
   "version": "3.6.4"
  }
 },
 "nbformat": 4,
 "nbformat_minor": 2
}
